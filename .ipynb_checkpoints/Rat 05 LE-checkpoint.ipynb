{
 "cells": [
  {
   "cell_type": "markdown",
   "metadata": {},
   "source": [
    "# Rat 05 forward model with linear elasticity"
   ]
  },
  {
   "cell_type": "code",
   "execution_count": 5,
   "metadata": {},
   "outputs": [
    {
     "ename": "NameError",
     "evalue": "name 'phi_n' is not defined",
     "output_type": "error",
     "traceback": [
      "\u001b[0;31m---------------------------------------------------------------------------\u001b[0m",
      "\u001b[0;31mNameError\u001b[0m                                 Traceback (most recent call last)",
      "\u001b[0;32m<ipython-input-5-a62457163823>\u001b[0m in \u001b[0;36m<module>\u001b[0;34m\u001b[0m\n\u001b[1;32m     35\u001b[0m \u001b[0;34m\u001b[0m\u001b[0m\n\u001b[1;32m     36\u001b[0m \u001b[0;31m# Compare with alternative formulation\u001b[0m\u001b[0;34m\u001b[0m\u001b[0;34m\u001b[0m\u001b[0m\n\u001b[0;32m---> 37\u001b[0;31m \u001b[0mu\u001b[0m \u001b[0;34m=\u001b[0m \u001b[0mle\u001b[0m\u001b[0;34m.\u001b[0m\u001b[0mvarprob1\u001b[0m\u001b[0;34m(\u001b[0m\u001b[0mV\u001b[0m\u001b[0;34m,\u001b[0m \u001b[0mW\u001b[0m\u001b[0;34m,\u001b[0m \u001b[0mT\u001b[0m\u001b[0;34m,\u001b[0m \u001b[0mn\u001b[0m\u001b[0;34m,\u001b[0m \u001b[0mbc\u001b[0m\u001b[0;34m,\u001b[0m \u001b[0mphi_n\u001b[0m\u001b[0;34m,\u001b[0m \u001b[0mmu\u001b[0m\u001b[0;34m,\u001b[0m \u001b[0mlam\u001b[0m\u001b[0;34m,\u001b[0m \u001b[0mbeta\u001b[0m\u001b[0;34m)\u001b[0m\u001b[0;34m\u001b[0m\u001b[0m\n\u001b[0m\u001b[1;32m     38\u001b[0m \u001b[0mvm\u001b[0m \u001b[0;34m=\u001b[0m \u001b[0mle\u001b[0m\u001b[0;34m.\u001b[0m\u001b[0mvm1\u001b[0m\u001b[0;34m(\u001b[0m\u001b[0mu\u001b[0m\u001b[0;34m,\u001b[0m\u001b[0mmu\u001b[0m\u001b[0;34m,\u001b[0m\u001b[0mlam\u001b[0m\u001b[0;34m,\u001b[0m\u001b[0mbeta\u001b[0m\u001b[0;34m,\u001b[0m \u001b[0mphi_n\u001b[0m\u001b[0;34m,\u001b[0m \u001b[0mW\u001b[0m\u001b[0;34m)\u001b[0m\u001b[0;34m\u001b[0m\u001b[0m\n\u001b[1;32m     39\u001b[0m \u001b[0;34m\u001b[0m\u001b[0m\n",
      "\u001b[0;31mNameError\u001b[0m: name 'phi_n' is not defined"
     ]
    }
   ],
   "source": [
    "%matplotlib inline\n",
    "from fenics import *\n",
    "import numpy as np\n",
    "import scipy\n",
    "import matplotlib.pyplot as plt\n",
    "import os\n",
    "import le\n",
    "\n",
    "import scipy.io\n",
    "from scipy.interpolate import RegularGridInterpolator\n",
    "\n",
    "tumor = scipy.io.loadmat(\"./rat-data/rat05/rat05image.mat\")['rat05ic']\n",
    "class InterpolatedParameter(Expression):\n",
    "    def __init__(self,X,Y,param_image,**kwargs):\n",
    "        self.X=np.linspace(1,41,41) #a numpy array giving the X-spacing of the image\n",
    "        self.Y=np.linspace(1,61,61) #same for Y\n",
    "        self.image=tumor #The image of measured material property\n",
    "    \n",
    "    def eval_cell(self,values,x,cell):\n",
    "        interp_handle=RegularGridInterpolator((self.X,self.Y,self.Z),self.image)\n",
    "        values[0]=interp_handle(x)\n",
    "\n",
    "\n",
    "adc=InterpolatedParameter(range(0,image.shape[0]),\\\n",
    "                          range(0,image.shape[1]),\\\n",
    "                          tumor,\\ #a 3d image of aparent diffusivity\n",
    "                          degree=0)\n",
    "\n",
    "adc=interpolate(adc,V) #use the fenics interpolate function to apply the interpolation to the DOFs\n",
    "\n",
    "\n",
    "# Create mesh and define function spaces\n",
    "mesh = Mesh(\"./rat-data/rat3gmsh.xml\")\n",
    "cf = MeshFunction(\"size_t\",mesh,\"./rat-data/rat3gmsh_physical_region.xml\")\n",
    "V = VectorFunctionSpace(mesh, 'P', 1)\n",
    "W = FunctionSpace(mesh, 'P',1) # Function space for tumor cells\n",
    "\n",
    "# Define initial fraction of tumor cells\n",
    "# phi_0 = Expression('exp(-a*pow(x[0], 2) - a*pow(x[1], 2))', \n",
    "#                  degree=2, a=5)\n",
    "# phi_n = interpolate(phi_0, W)\n",
    "# plt.figure()\n",
    "# plot(phi_n,title=\"Initial tumor cell concentration\")\n",
    "\n",
    "# Variables\n",
    "mu = 1.0\n",
    "lam = 1.0\n",
    "nu = lam/(2*(lam+mu))\n",
    "beta = .001\n",
    "omega = 2*mu*beta+3*lam*beta\n",
    "\n",
    "# Define boundary condition\n",
    "def boundary(x, on_boundary):\n",
    "    return on_boundary\n",
    "bc = DirichletBC(V, Constant((0.0,0.0)), boundary)\n",
    "\n",
    "T = Expression((('0','0'),('0','0')),degree=1)\n",
    "n = FacetNormal(mesh)\n",
    "\n",
    "# Compare with alternative formulation\n",
    "u = le.varprob1(V, W, T, n, bc, phi_n, mu, lam, beta)\n",
    "vm = le.vm1(u,mu,lam,beta, phi_n, W)\n",
    "\n",
    "# Plot solution\n",
    "plt.figure()\n",
    "plot(u, title='Displacement', mode='displacement')\n",
    "\n",
    "# Plot stress\n",
    "plt.figure()\n",
    "plot(vm, title='Stress intensity')\n",
    "\n",
    "# Compute magnitude of displacement\n",
    "plt.figure()\n",
    "u_magnitude = sqrt(dot(u, u))\n",
    "u_magnitude = project(u_magnitude, W)\n",
    "plot(u_magnitude, title='Displacement magnitude')\n",
    "\n",
    "# Save solution to file in VTK format\n",
    "os.system('rm ./output/elasticity/*')\n",
    "ufile = XDMFFile('./output/elasticity/disp.xdmf')\n",
    "u.rename(\"disp\",\"\")\n",
    "ufile.write(u,0)\n",
    "del ufile"
   ]
  },
  {
   "cell_type": "code",
   "execution_count": 77,
   "metadata": {
    "scrolled": true
   },
   "outputs": [
    {
     "ename": "RecursionError",
     "evalue": "maximum recursion depth exceeded in comparison",
     "output_type": "error",
     "traceback": [
      "\u001b[0;31m---------------------------------------------------------------------------\u001b[0m",
      "\u001b[0;31mRecursionError\u001b[0m                            Traceback (most recent call last)",
      "\u001b[0;32m<ipython-input-77-3fc00399ee07>\u001b[0m in \u001b[0;36m<module>\u001b[0;34m\u001b[0m\n\u001b[1;32m     31\u001b[0m \u001b[0madc\u001b[0m \u001b[0;34m=\u001b[0m \u001b[0mInterpolatedParameter\u001b[0m\u001b[0;34m(\u001b[0m\u001b[0mX\u001b[0m\u001b[0;34m=\u001b[0m\u001b[0mx\u001b[0m\u001b[0;34m,\u001b[0m\u001b[0mY\u001b[0m\u001b[0;34m=\u001b[0m\u001b[0my\u001b[0m\u001b[0;34m,\u001b[0m\u001b[0mimage\u001b[0m\u001b[0;34m=\u001b[0m\u001b[0mtumor\u001b[0m\u001b[0;34m)\u001b[0m\u001b[0;34m\u001b[0m\u001b[0m\n\u001b[1;32m     32\u001b[0m \u001b[0mvalues\u001b[0m \u001b[0;34m=\u001b[0m \u001b[0;34m[\u001b[0m\u001b[0;34m]\u001b[0m\u001b[0;34m\u001b[0m\u001b[0m\n\u001b[0;32m---> 33\u001b[0;31m \u001b[0madc\u001b[0m\u001b[0;34m.\u001b[0m\u001b[0m__getattr__\u001b[0m\u001b[0;34m(\u001b[0m\u001b[0;34m'_X'\u001b[0m\u001b[0;34m)\u001b[0m\u001b[0;34m\u001b[0m\u001b[0m\n\u001b[0m\u001b[1;32m     34\u001b[0m \u001b[0;31m#adc.eval_cell(values=values,x=[15,45])\u001b[0m\u001b[0;34m\u001b[0m\u001b[0;34m\u001b[0m\u001b[0m\n\u001b[1;32m     35\u001b[0m \u001b[0;31m#adc=project(adc,W) #use the fenics interpolate function to apply the interpolation to the DOFs\u001b[0m\u001b[0;34m\u001b[0m\u001b[0;34m\u001b[0m\u001b[0m\n",
      "\u001b[0;32m~/miniconda3/lib/python3.6/site-packages/dolfin/function/expression.py\u001b[0m in \u001b[0;36m__getattr__\u001b[0;34m(self, name)\u001b[0m\n\u001b[1;32m    406\u001b[0m             \u001b[0;32mreturn\u001b[0m \u001b[0mself\u001b[0m\u001b[0;34m.\u001b[0m\u001b[0m_parameters\u001b[0m\u001b[0;34m\u001b[0m\u001b[0m\n\u001b[1;32m    407\u001b[0m         \u001b[0;32melse\u001b[0m\u001b[0;34m:\u001b[0m\u001b[0;34m\u001b[0m\u001b[0m\n\u001b[0;32m--> 408\u001b[0;31m             \u001b[0;32mreturn\u001b[0m \u001b[0mself\u001b[0m\u001b[0;34m.\u001b[0m\u001b[0m_parameters\u001b[0m\u001b[0;34m[\u001b[0m\u001b[0mname\u001b[0m\u001b[0;34m]\u001b[0m\u001b[0;34m\u001b[0m\u001b[0m\n\u001b[0m\u001b[1;32m    409\u001b[0m \u001b[0;34m\u001b[0m\u001b[0m\n\u001b[1;32m    410\u001b[0m     \u001b[0;32mdef\u001b[0m \u001b[0m__setattr__\u001b[0m\u001b[0;34m(\u001b[0m\u001b[0mself\u001b[0m\u001b[0;34m,\u001b[0m \u001b[0mname\u001b[0m\u001b[0;34m,\u001b[0m \u001b[0mvalue\u001b[0m\u001b[0;34m)\u001b[0m\u001b[0;34m:\u001b[0m\u001b[0;34m\u001b[0m\u001b[0m\n",
      "... last 1 frames repeated, from the frame below ...\n",
      "\u001b[0;32m~/miniconda3/lib/python3.6/site-packages/dolfin/function/expression.py\u001b[0m in \u001b[0;36m__getattr__\u001b[0;34m(self, name)\u001b[0m\n\u001b[1;32m    406\u001b[0m             \u001b[0;32mreturn\u001b[0m \u001b[0mself\u001b[0m\u001b[0;34m.\u001b[0m\u001b[0m_parameters\u001b[0m\u001b[0;34m\u001b[0m\u001b[0m\n\u001b[1;32m    407\u001b[0m         \u001b[0;32melse\u001b[0m\u001b[0;34m:\u001b[0m\u001b[0;34m\u001b[0m\u001b[0m\n\u001b[0;32m--> 408\u001b[0;31m             \u001b[0;32mreturn\u001b[0m \u001b[0mself\u001b[0m\u001b[0;34m.\u001b[0m\u001b[0m_parameters\u001b[0m\u001b[0;34m[\u001b[0m\u001b[0mname\u001b[0m\u001b[0;34m]\u001b[0m\u001b[0;34m\u001b[0m\u001b[0m\n\u001b[0m\u001b[1;32m    409\u001b[0m \u001b[0;34m\u001b[0m\u001b[0m\n\u001b[1;32m    410\u001b[0m     \u001b[0;32mdef\u001b[0m \u001b[0m__setattr__\u001b[0m\u001b[0;34m(\u001b[0m\u001b[0mself\u001b[0m\u001b[0;34m,\u001b[0m \u001b[0mname\u001b[0m\u001b[0;34m,\u001b[0m \u001b[0mvalue\u001b[0m\u001b[0;34m)\u001b[0m\u001b[0;34m:\u001b[0m\u001b[0;34m\u001b[0m\u001b[0m\n",
      "\u001b[0;31mRecursionError\u001b[0m: maximum recursion depth exceeded in comparison"
     ]
    }
   ],
   "source": [
    "%matplotlib inline\n",
    "from fenics import *\n",
    "import numpy as np\n",
    "import scipy\n",
    "import matplotlib.pyplot as plt\n",
    "import os\n",
    "import le\n",
    "\n",
    "import scipy.io\n",
    "from scipy.interpolate import RegularGridInterpolator\n",
    "\n",
    "class InterpolatedParameter(Expression):\n",
    "    \n",
    "    def __init__(self,X,Y,image):\n",
    "        self._X = X # A numpy array giving the X-spacing of the image\n",
    "        self._Y = Y # Same for Y\n",
    "        self._image = image # The image of measured material property\n",
    "    \n",
    "    def eval_cell(self,values,x):\n",
    "        interp_handle = RegularGridInterpolator((self.X,self.Y),self.image)\n",
    "        values[0] = interp_handle(x)\n",
    "\n",
    "# Create mesh and define function spaces\n",
    "mesh = Mesh(\"./rat-data/rat05/rat05gmsh.xml\")\n",
    "cf = MeshFunction(\"size_t\",mesh,\"./rat-data/rat05/rat05gmsh_physical_region.xml\")\n",
    "V = VectorFunctionSpace(mesh, 'P', 1)\n",
    "tumor = scipy.io.loadmat(\"./rat-data/rat05/rat05ic.mat\")['rat05ic']\n",
    "\n",
    "x = np.linspace(1,41,41)#tumor.shape[0], tumor.shape[0])\n",
    "y = np.linspace(1,61,61)#tumor.shape[1], tumor.shape[1])\n",
    "adc = InterpolatedParameter(X=x,Y=y,image=tumor)\n",
    "values = []\n",
    "adc.__getattr__('_X')\n",
    "#adc.eval_cell(values=values,x=[15,45])\n",
    "#adc=project(adc,W) #use the fenics interpolate function to apply the interpolation to the DOFs\n",
    "\n",
    "\n"
   ]
  },
  {
   "cell_type": "code",
   "execution_count": 56,
   "metadata": {},
   "outputs": [
    {
     "name": "stdout",
     "output_type": "stream",
     "text": [
      "[27781.75325766]\n"
     ]
    },
    {
     "data": {
      "text/plain": [
       "<matplotlib.image.AxesImage at 0x7fe59bedeb00>"
      ]
     },
     "execution_count": 56,
     "metadata": {},
     "output_type": "execute_result"
    },
    {
     "data": {
      "image/png": "[encoded data removed]",
      "text/plain": [
       "<Figure size 432x288 with 1 Axes>"
      ]
     },
     "metadata": {
      "needs_background": "light"
     },
     "output_type": "display_data"
    }
   ],
   "source": [
    "\n",
    "W = FunctionSpace(mesh, 'P',1) # Function space for tumor cells\n",
    "x = np.linspace(1,41,41)#tumor.shape[0], tumor.shape[0])\n",
    "y = np.linspace(1,61,61)#tumor.shape[1], tumor.shape[1])\n",
    "tumor = scipy.io.loadmat(\"./rat-data/rat05/rat05ic.mat\")['rat05ic']\n",
    "interp_handle = RegularGridInterpolator((x,y),tumor)\n",
    "values = interp_handle([15,45])\n",
    "print(values)\n",
    "plt.imshow(tumor)"
   ]
  }
 ],
 "metadata": {
  "kernelspec": {
   "display_name": "Python 3",
   "language": "python",
   "name": "python3"
  }
 },
 "nbformat": 4,
 "nbformat_minor": 2
}
