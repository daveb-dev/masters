{
 "cells": [
  {
   "cell_type": "markdown",
   "metadata": {},
   "source": [
    "# Rat 05 forward model with linear elasticity"
   ]
  },
  {
   "cell_type": "code",
   "execution_count": 5,
   "metadata": {},
   "outputs": [
    {
     "ename": "NameError",
     "evalue": "name 'phi_n' is not defined",
     "output_type": "error",
     "traceback": [
      "\u001b[0;31m---------------------------------------------------------------------------\u001b[0m",
      "\u001b[0;31mNameError\u001b[0m                                 Traceback (most recent call last)",
      "\u001b[0;32m<ipython-input-5-a62457163823>\u001b[0m in \u001b[0;36m<module>\u001b[0;34m\u001b[0m\n\u001b[1;32m     35\u001b[0m \u001b[0;34m\u001b[0m\u001b[0m\n\u001b[1;32m     36\u001b[0m \u001b[0;31m# Compare with alternative formulation\u001b[0m\u001b[0;34m\u001b[0m\u001b[0;34m\u001b[0m\u001b[0m\n\u001b[0;32m---> 37\u001b[0;31m \u001b[0mu\u001b[0m \u001b[0;34m=\u001b[0m \u001b[0mle\u001b[0m\u001b[0;34m.\u001b[0m\u001b[0mvarprob1\u001b[0m\u001b[0;34m(\u001b[0m\u001b[0mV\u001b[0m\u001b[0;34m,\u001b[0m \u001b[0mW\u001b[0m\u001b[0;34m,\u001b[0m \u001b[0mT\u001b[0m\u001b[0;34m,\u001b[0m \u001b[0mn\u001b[0m\u001b[0;34m,\u001b[0m \u001b[0mbc\u001b[0m\u001b[0;34m,\u001b[0m \u001b[0mphi_n\u001b[0m\u001b[0;34m,\u001b[0m \u001b[0mmu\u001b[0m\u001b[0;34m,\u001b[0m \u001b[0mlam\u001b[0m\u001b[0;34m,\u001b[0m \u001b[0mbeta\u001b[0m\u001b[0;34m)\u001b[0m\u001b[0;34m\u001b[0m\u001b[0m\n\u001b[0m\u001b[1;32m     38\u001b[0m \u001b[0mvm\u001b[0m \u001b[0;34m=\u001b[0m \u001b[0mle\u001b[0m\u001b[0;34m.\u001b[0m\u001b[0mvm1\u001b[0m\u001b[0;34m(\u001b[0m\u001b[0mu\u001b[0m\u001b[0;34m,\u001b[0m\u001b[0mmu\u001b[0m\u001b[0;34m,\u001b[0m\u001b[0mlam\u001b[0m\u001b[0;34m,\u001b[0m\u001b[0mbeta\u001b[0m\u001b[0;34m,\u001b[0m \u001b[0mphi_n\u001b[0m\u001b[0;34m,\u001b[0m \u001b[0mW\u001b[0m\u001b[0;34m)\u001b[0m\u001b[0;34m\u001b[0m\u001b[0m\n\u001b[1;32m     39\u001b[0m \u001b[0;34m\u001b[0m\u001b[0m\n",
      "\u001b[0;31mNameError\u001b[0m: name 'phi_n' is not defined"
     ]
    }
   ],
   "source": [
    "%matplotlib inline\n",
    "from fenics import *\n",
    "import numpy as np\n",
    "import scipy\n",
    "import matplotlib.pyplot as plt\n",
    "import os\n",
    "import le\n",
    "\n",
    "import scipy.io\n",
    "from scipy.interpolate import RegularGridInterpolator\n",
    "\n",
    "class InterpolatedParameter(Expression):\n",
    "    def __init__(self,X,Y,param_image,**kwargs):\n",
    "        self.X=X #a numpy array giving the X-spacing of the image\n",
    "        self.Y=Y #same for Y\n",
    "        self.param_image=param_image #The image of measured material property\n",
    "    \n",
    "    def eval_cell(self,values,x,cell):\n",
    "        interp_handle=RegularGridInterpolator((self.X,self.Y,self.Z),self.param_image)\n",
    "        values[0]=interp_handle(x)\n",
    "\n",
    "\n",
    "adc=InterpolatedParameter(range(0,param_image.shape[0]),\\\n",
    "                          range(0,param_image.shape[1]),\\\n",
    "                          range(0,param_image.shape[2]),\\\n",
    "                          param_image,\\ #a 3d image of aparent diffusivity\n",
    "                          degree=0)\n",
    "\n",
    "adc=interpolate(adc,V) #use the fenics interpolate function to apply the interpolation to the DOFs​\n",
    "\n",
    "\n",
    "# Create mesh and define function spaces\n",
    "mesh = Mesh(\"./rat-data/rat3gmsh.xml\")\n",
    "cf = MeshFunction(\"size_t\",mesh,\"./rat-data/rat3gmsh_physical_region.xml\")\n",
    "V = VectorFunctionSpace(mesh, 'P', 1)\n",
    "W = FunctionSpace(mesh, 'P',1) # Function space for tumor cells\n",
    "\n",
    "# Define initial fraction of tumor cells\n",
    "# phi_0 = Expression('exp(-a*pow(x[0], 2) - a*pow(x[1], 2))', \n",
    "#                  degree=2, a=5)\n",
    "# phi_n = interpolate(phi_0, W)\n",
    "# plt.figure()\n",
    "# plot(phi_n,title=\"Initial tumor cell concentration\")\n",
    "\n",
    "# Variables\n",
    "mu = 1.0\n",
    "lam = 1.0\n",
    "nu = lam/(2*(lam+mu))\n",
    "beta = .001\n",
    "omega = 2*mu*beta+3*lam*beta\n",
    "\n",
    "# Define boundary condition\n",
    "def boundary(x, on_boundary):\n",
    "    return on_boundary\n",
    "bc = DirichletBC(V, Constant((0.0,0.0)), boundary)\n",
    "\n",
    "T = Expression((('0','0'),('0','0')),degree=1)\n",
    "n = FacetNormal(mesh)\n",
    "\n",
    "# Compare with alternative formulation\n",
    "u = le.varprob1(V, W, T, n, bc, phi_n, mu, lam, beta)\n",
    "vm = le.vm1(u,mu,lam,beta, phi_n, W)\n",
    "\n",
    "# Plot solution\n",
    "plt.figure()\n",
    "plot(u, title='Displacement', mode='displacement')\n",
    "\n",
    "# Plot stress\n",
    "plt.figure()\n",
    "plot(vm, title='Stress intensity')\n",
    "\n",
    "# Compute magnitude of displacement\n",
    "plt.figure()\n",
    "u_magnitude = sqrt(dot(u, u))\n",
    "u_magnitude = project(u_magnitude, W)\n",
    "plot(u_magnitude, title='Displacement magnitude')\n",
    "\n",
    "# Save solution to file in VTK format\n",
    "os.system('rm ./output/elasticity/*')\n",
    "ufile = XDMFFile('./output/elasticity/disp.xdmf')\n",
    "u.rename(\"disp\",\"\")\n",
    "ufile.write(u,0)\n",
    "del ufile"
   ]
  },
  {
   "cell_type": "code",
   "execution_count": 37,
   "metadata": {
    "scrolled": true
   },
   "outputs": [
    {
     "data": {
      "text/plain": [
       "array([[39, 26],\n",
       "       [39, 25],\n",
       "       [39, 24],\n",
       "       [39, 23],\n",
       "       [39, 22],\n",
       "       [39, 21],\n",
       "       [40, 20],\n",
       "       [41, 20],\n",
       "       [42, 20],\n",
       "       [43, 20],\n",
       "       [44, 20],\n",
       "       [45, 20],\n",
       "       [46, 21],\n",
       "       [47, 22],\n",
       "       [48, 23],\n",
       "       [49, 24],\n",
       "       [49, 25],\n",
       "       [49, 26],\n",
       "       [50, 28],\n",
       "       [49, 29],\n",
       "       [48, 30],\n",
       "       [46, 31],\n",
       "       [45, 31],\n",
       "       [44, 31],\n",
       "       [42, 30],\n",
       "       [41, 30],\n",
       "       [40, 28],\n",
       "       [39, 26]], dtype=uint8)"
      ]
     },
     "execution_count": 37,
     "metadata": {},
     "output_type": "execute_result"
    }
   ],
   "source": [
    "import scipy.io\n",
    "tumor = scipy.io.loadmat(\"./rat-data/rat05/rat05tumor.mat\")\n",
    "tumor['rat3tbound']"
   ]
  }
 ],
 "metadata": {
  "kernelspec": {
   "display_name": "Python 3",
   "language": "python",
   "name": "python3"
  },
  "language_info": {
   "codemirror_mode": {
    "name": "ipython",
    "version": 3
   },
   "file_extension": ".py",
   "mimetype": "text/x-python",
   "name": "python",
   "nbconvert_exporter": "python",
   "pygments_lexer": "ipython3",
   "version": "3.6.6"
  }
 },
 "nbformat": 4,
 "nbformat_minor": 2
}
