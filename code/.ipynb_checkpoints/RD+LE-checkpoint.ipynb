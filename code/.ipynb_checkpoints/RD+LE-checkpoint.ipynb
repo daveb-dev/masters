{
 "cells": [
  {
   "cell_type": "markdown",
   "metadata": {},
   "source": [
    "# Reaction Diffusion + Linear Elasticity \n",
    "\n",
    "The linear elasticity formulation and be used to inform the reaction diffusion problem. The diffusion constant and source term can be a function of the stresses, with the implication being that high stresses would reduce growth\n",
    "\n",
    "\\begin{align*}\n",
    "D &= \\overline{D}\\exp(-\\gamma^{Pa}J) \\\\\n",
    "\\alpha &= \\overline{\\alpha}\\exp(-\\gamma^{mob}J)\n",
    "\\end{align*}\n",
    "\n",
    "The stress itself can be considered a function of the tumor cells. The body forces in the stress formulation could be realted to the gradient of tumor cells, so that where the tumor is growing outwards, there are larger stresses. \n",
    "\n",
    "$$\\nabla\\cdot\\sigma = \\beta\\nabla(\\phi) $$\n",
    "\n",
    "First, the stress problem is solved at each time point. Then, the reaction-diffusion problem is solved using the stress to determine diffusion and growth coefficients."
   ]
  },
  {
   "cell_type": "code",
   "execution_count": 3,
   "metadata": {
    "collapsed": false,
    "scrolled": true
   },
   "outputs": [
    {
     "ename": "TypeError",
     "evalue": "varprob() takes exactly 9 arguments (7 given)",
     "output_type": "error",
     "traceback": [
      "\u001b[1;31m---------------------------------------------------------------------------\u001b[0m",
      "\u001b[1;31mTypeError\u001b[0m                                 Traceback (most recent call last)",
      "\u001b[1;32m<ipython-input-3-6b8def6e20ba>\u001b[0m in \u001b[0;36m<module>\u001b[1;34m()\u001b[0m\n\u001b[0;32m     58\u001b[0m \u001b[1;33m\u001b[0m\u001b[0m\n\u001b[0;32m     59\u001b[0m     \u001b[1;31m# Solve variational problem for time step\u001b[0m\u001b[1;33m\u001b[0m\u001b[1;33m\u001b[0m\u001b[0m\n\u001b[1;32m---> 60\u001b[1;33m     \u001b[0mvm\u001b[0m \u001b[1;33m=\u001b[0m \u001b[0mle\u001b[0m\u001b[1;33m.\u001b[0m\u001b[0mvarprob\u001b[0m\u001b[1;33m(\u001b[0m\u001b[0mV\u001b[0m\u001b[1;33m,\u001b[0m \u001b[0mW\u001b[0m\u001b[1;33m,\u001b[0m \u001b[0mbc\u001b[0m\u001b[1;33m,\u001b[0m \u001b[0mphi_n\u001b[0m\u001b[1;33m,\u001b[0m \u001b[0mmu\u001b[0m\u001b[1;33m,\u001b[0m \u001b[0mlam\u001b[0m\u001b[1;33m,\u001b[0m \u001b[0mbeta\u001b[0m\u001b[1;33m)\u001b[0m\u001b[1;33m\u001b[0m\u001b[0m\n\u001b[0m\u001b[0;32m     61\u001b[0m     \u001b[0mD\u001b[0m \u001b[1;33m=\u001b[0m \u001b[0mDt\u001b[0m\u001b[1;33m*\u001b[0m\u001b[0mexp\u001b[0m\u001b[1;33m(\u001b[0m\u001b[1;33m-\u001b[0m\u001b[0mgamma1\u001b[0m\u001b[1;33m*\u001b[0m\u001b[0mvm\u001b[0m\u001b[1;33m)\u001b[0m\u001b[1;33m\u001b[0m\u001b[0m\n\u001b[0;32m     62\u001b[0m     \u001b[0malpha\u001b[0m \u001b[1;33m=\u001b[0m \u001b[0malphat\u001b[0m\u001b[1;33m*\u001b[0m\u001b[0mexp\u001b[0m\u001b[1;33m(\u001b[0m\u001b[1;33m-\u001b[0m\u001b[0mgamma2\u001b[0m\u001b[1;33m*\u001b[0m\u001b[0mvm\u001b[0m\u001b[1;33m)\u001b[0m\u001b[1;33m\u001b[0m\u001b[0m\n",
      "\u001b[1;31mTypeError\u001b[0m: varprob() takes exactly 9 arguments (7 given)"
     ]
    },
    {
     "data": {
      "image/png": "[encoded data removed]",
      "text/plain": [
       "<matplotlib.figure.Figure at 0x7f882ba50190>"
      ]
     },
     "metadata": {},
     "output_type": "display_data"
    }
   ],
   "source": [
    "## Reaction Diffusion + Linear Elasticity \n",
    "\n",
    "%matplotlib inline\n",
    "from fenics import *\n",
    "import numpy as np\n",
    "import matplotlib.pyplot as plt\n",
    "import time\n",
    "import os \n",
    "import sys\n",
    "if os.getcwd() not in sys.path:\n",
    "    sys.path.append(os.getcwd())\n",
    "import rd\n",
    "import le\n",
    "\n",
    "# Variables\n",
    "T = 1.0            # final time\n",
    "num_steps = 20     # number of time steps\n",
    "dt = T / num_steps # time step size\n",
    "mu = 1.0            # shear modulus\n",
    "lam = .001\n",
    "nu = lam/(2*(lam+mu))\n",
    "EE = lam*(1+nu)*(1-2*nu)/nu\n",
    "beta = .001\n",
    "Dt = .05           # Diffusion coefficient\n",
    "alphat = 2.5       # Reaction coeffecient\n",
    "gamma1 = 10.       # stress-to-diffusion coefficient\n",
    "gamma2 = 10       # stress-to-reaction coefficient\n",
    "\n",
    "# Create mesh and define function spaces\n",
    "nx = ny = 40\n",
    "mesh = RectangleMesh(Point(-2, -2), Point(2, 2), nx, ny)\n",
    "V = VectorFunctionSpace(mesh, 'P', 1) # Function space for displacement\n",
    "W = FunctionSpace(mesh, 'P',1) # Function space for tumor cells\n",
    "\n",
    "# Define initial fraction of tumor cells\n",
    "phi_0 = Expression('exp(-a*pow(x[0], 2) - a*pow(x[1], 2))', \n",
    "                 degree=2, a=20)\n",
    "phi_n = interpolate(phi_0,W)\n",
    "plt.figure()\n",
    "f = plt.contourf(phi_n.compute_vertex_values().reshape([nx+1,ny+1]))\n",
    "plt.colorbar(mappable=f)\n",
    "\n",
    "# Define expressions and functions used in variational forms\n",
    "D = project(Constant(Dt),W)   # Parameter 1\n",
    "alpha = project(Constant(alphat),W)\n",
    "\n",
    "# Define boundary condition\n",
    "def boundary(x, on_boundary):\n",
    "    return on_boundary\n",
    "bc = DirichletBC(V, Constant((0.0,0.0)), boundary)\n",
    "\n",
    "# Compute solution\n",
    "os.system('rm ./output/rdle/*')\n",
    "phifile = XDMFFile('output/rdle/solution.xdmf')\n",
    "t = 0\n",
    "for n in range(num_steps):\n",
    "    t += dt\n",
    "    \n",
    "    # Solve variational problem for time step\n",
    "    vm = le.varprob(V, W, bc, phi_n, mu, lam, beta)\n",
    "    D = Dt*exp(-gamma1*vm)\n",
    "    alpha = alphat*exp(-gamma2*vm)\n",
    "    phi = rd.varprob(dt, W, phi_n, D, alpha)\n",
    "    \n",
    "    # Save solution to file (xdmf)\n",
    "    phifile.write(phi,t)\n",
    "    phifile.write(vm,t)\n",
    "    \n",
    "    # Update previous solution\n",
    "    phi_n.assign(phi)\n",
    "    phiarray = phi_n.compute_vertex_values().reshape([nx+1,ny+1])\n",
    "    \n",
    "    # Plot\n",
    "    fig, ax = plt.subplots()\n",
    "    cax = ax.contourf(phiarray,np.linspace(-.1,1,12))\n",
    "    ax.set_title(str(n))\n",
    "    cbar = fig.colorbar(cax,ticks=[0,.5,1],spacing='proportional')\n",
    "    cbar.set_ticklabels(['0', '.5', '>1'])  # vertically oriented colorbar\n",
    "    plt.show()\n",
    "    \n",
    "del phifile\n",
    "\n",
    "from xdmf_parser import xparse as xp\n",
    "xp(\"output/rdle/solution.xdmf\")"
   ]
  }
 ],
 "metadata": {
  "kernelspec": {
   "display_name": "Python 2",
   "language": "python",
   "name": "python2"
  },
  "language_info": {
   "codemirror_mode": {
    "name": "ipython",
    "version": 2
   },
   "file_extension": ".py",
   "mimetype": "text/x-python",
   "name": "python",
   "nbconvert_exporter": "python",
   "pygments_lexer": "ipython2",
   "version": "2.7.11"
  }
 },
 "nbformat": 4,
 "nbformat_minor": 1
}
