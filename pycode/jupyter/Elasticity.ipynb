{
 "cells": [
  {
   "cell_type": "markdown",
   "metadata": {},
   "source": [
    "## Linear Elasticity + RD\n",
    "Let $\\mathbf{x} = \\chi(\\mathbf{X},t)$ be the current (deformed) configuration, a function of the reference (undeformed) configuration $\\mathbf{X}$ and time. The deformation gradient is:\n",
    "$$ \\mathbf{F} = \\frac{\\partial \\chi}{\\partial \\mathbf{X}} $$\n",
    "\n",
    "And it can be decomposed into:\n",
    "$$ \\mathbf{F} = \\mathbf{F}^S\\mathbf{F}^G $$\n",
    "\n",
    "Where $\\mathbf{F}^G$ is the right stretch tensor, \n",
    "$$ \\mathbf{F}^G = \\lambda^G\\mathbf{I} = (\\beta\\phi+1)\\mathbf{I} $$\n",
    "\n",
    "When $||\\nabla\\mathbf{u}|| << 1$, the formulation can be rewritten in terms of infinitesimal strain,\n",
    "$$ \\mathbf{E} = \\frac{1}{2}(\\nabla\\mathbf{u}+\\nabla\\mathbf{u}^T) $$\n",
    "\n",
    "This can be decomposed:\n",
    "$$ \\mathbf{E} = \\mathbf{E}^S+\\mathbf{E}^G $$\n",
    "\n",
    "$\\mathbf{F}^G=\\lambda^G\\mathbf{I}$ is equivalent to the following growth strain:\n",
    "\\begin{align*}\n",
    "\\mathbf{E}^G &= \\frac{1}{2}((\\mathbf{F}^G)^T+\\mathbf{F}^G)-\\mathbf{I} \\\\\n",
    "&= \\frac{1}{2}(\\lambda^G\\mathbf{I}+\\lambda^G\\mathbf{I})-\\mathbf{I} \\\\\n",
    "&= (\\lambda^G-1)\\mathbf{I}  \\\\\n",
    "\\mathbf{E}^G &= \\beta\\phi\\mathbf{I} \n",
    "\\end{align*}\n",
    "\n",
    "The Cauchy stress tensor is:\n",
    "$\\mathbb{C}$\n",
    "$$ \\sigma = \\mathbb{C}(\\mathbf{E}-\\mathbf{E}^G) = \\mathbb{C}\\mathbf{E}^S $$\n",
    "\n",
    "Where $\\mathbb{C}$ is the 4th order elasticity tensor. Under linear and isotropic assumptions:\n",
    "\\begin{align*}\n",
    "\\sigma &= 2G\\mathbf{E}^S+\\frac{2G\\nu}{1-2\\nu}(\\textrm{tr}\\mathbf{E}^S)\\mathbf{I} \\\\\n",
    "&=2G(\\mathbf{E}-\\beta\\phi\\mathbf{I})+\\frac{2G\\nu}{1-2\\nu}\\mathbf{I}(\\textrm{tr}\\mathbf{E}-\\textrm{tr}\\mathbf{E}^G) \n",
    "\\end{align*}\n",
    "\n",
    "Where $\\textrm{tr}\\mathbf{E}^G = 2\\beta\\phi$ for 2D ($3\\beta\\phi$ for 3D). Thus, for linear elasticity:\n",
    "\n",
    "\\begin{align*}\n",
    "\\nabla\\cdot\\sigma &= 0 \\\\\n",
    "\\sigma &= 2G(\\mathbf{E}-\\beta_T\\phi\\mathbf{I})+\\frac{2G\\nu}{1-2\\nu}(\\textrm{tr}\\mathbf{E}-3\\beta_T\\phi)\\mathbf{I}\n",
    "\\end{align*}\n",
    "\n",
    "No time dependency here so we can find the variational formulation:\n",
    "\n",
    "$$ \\int_\\Omega (\\nabla\\cdot\\sigma)v= -\\int_\\Omega \\sigma:\\nabla v dx + \\int_{\\partial \\Omega} (\\sigma\\cdot n)\\cdot v \\, ds  $$\n",
    "\n",
    "Since the stress $\\sigma$ is symmetric, the tensor inner product will only have an effect on the symmetric part of $\\nabla v$,\n",
    "\\begin{align*}\n",
    "\\int_\\Omega \\left(2G(\\mathbf{E}-\\beta_T\\phi\\mathbf{I})+\\frac{2G\\nu}{1-2\\nu}(\\textrm{tr}\\mathbf{E}-2\\beta_T\\phi)\\mathbf{I}\\right):\\left(\\frac{1}{2}(\\nabla v + (\\nabla v)^T)\\right) \\,dx + \\int_{\\partial \\Omega} (\\sigma n)\\cdot v \\, ds &= 0 \n",
    "\\end{align*}\n",
    "\n",
    "## Plane Strain Formulation\n",
    "The formulation can be modified in this case, where a 2D representation of the tumor will be studied. Plane strain assumes that the loads are within this 2D plane, and the length of the object in the 3rd dimension is such that the object experiences zero strain in that direction. So, if the strains in each direction are represented by $\\varepsilon_x$,  $\\varepsilon_{xy}$, etc.:\n",
    "$$\\varepsilon_z = \\varepsilon_{xz} = \\varepsilon_{yz} = 0 $$\n",
    "\n",
    "The relationship between stress and strain can be rewritten by converting the tensors into vectors:\n",
    "\\begin{align*}\n",
    "\\begin{bmatrix}\n",
    "\\sigma_x \\\\ \\sigma_y \\\\ \\tau_{xy}\n",
    "\\end{bmatrix} &= \n",
    "\\begin{bmatrix}\n",
    "2G+\\lambda & \\lambda & 0 \\\\ \\lambda & 2G+\\lambda & 0 \\\\ 0 & 0 & 2G\n",
    "\\end{bmatrix}\n",
    "\\begin{bmatrix}\n",
    "\\varepsilon_x \\\\ \\varepsilon_y \\\\ \\varepsilon_{xy}\n",
    "\\end{bmatrix}\n",
    "\\end{align*}\n",
    "\n",
    "Where $\\lambda = \\frac{2G\\nu}{1-2\\nu}$. $\\sigma_z$ is a function of the above components and so it can be removed from the formulation. \n",
    "\n",
    "## Modified Equation of Equilibrium\n",
    "The equation of equilibrium can be rewritten to accomodate the plane strain formulation more easily:\n",
    "$$\\nabla\\cdot\\sigma = \\beta\\nabla(\\phi) $$\n",
    "\n",
    "So the variational formulation is:\n",
    "$$-\\int_\\Omega \\sigma:\\nabla v\\,dx + \\int_{\\partial\\Omega} (\\sigma n)\\cdot v\\,ds = \\int_\\Omega \\beta\\nabla(\\phi) v $$\n",
    "\n",
    "And since displacement is zero on the boundary, the boundary term vanishes.\n",
    "\n",
    "## Equality of the two equations of equilibrium:\n",
    "\n",
    "Beginning with the original formulation, \n",
    "\\begin{align*}\n",
    "\\nabla\\cdot \\left[2G(\\mathbf{E}-\\beta_T\\phi\\mathbf{I})+\\frac{2G\\nu}{1-2\\nu}(\\textrm{tr}\\mathbf{E}-3\\beta_T\\phi)\\mathbf{I}\\right] &= 0 \\\\\n",
    "2G\\nabla\\cdot\\mathbf{E}-2G\\beta_T\\nabla\\cdot(\\phi\\mathbf{I})+\\frac{2G\\nu}{1-2\\nu}\\nabla\\cdot(\\textrm{tr}\\mathbf{E}-3\\beta_T\\phi)\\mathbf{I} &= 0 \\\\\n",
    "2G\\nabla\\cdot\\mathbf{E}-2G\\beta_T\\nabla\\phi+\\frac{2G\\nu}{1-2\\nu}\\nabla\\cdot(\\textrm{tr}\\mathbf{E})\\mathbf{I}-3\\frac{2G\\nu}{1-2\\nu}\\beta_T\\nabla\\phi &= 0 \\\\\n",
    "2G\\nabla\\cdot\\mathbf{E}+\\frac{2G\\nu}{1-2\\nu}\\nabla\\cdot(\\textrm{tr}\\mathbf{E})\\mathbf{I} &= 2G\\beta_T\\nabla\\phi + 3\\frac{2G\\nu}{1-2\\nu}\\beta_T\\nabla\\phi \\\\\n",
    "2G\\nabla\\cdot\\mathbf{E}+\\frac{2G\\nu}{1-2\\nu}\\nabla\\cdot(\\textrm{tr}\\mathbf{E})\\mathbf{I} &= (2G\\beta_T+ 3\\frac{2G\\nu}{1-2\\nu}\\beta_T)\\nabla\\phi \\\\\n",
    "\\nabla\\cdot(2G\\mathbf{E}+\\frac{2G\\nu}{1-2\\nu}(\\textrm{tr}\\mathbf{E})\\mathbf{I}) &= \\omega\\nabla\\phi \\\\\n",
    "\\nabla\\cdot\\sigma &= \\omega\\nabla\\phi \\\\\n",
    "\\end{align*}"
   ]
  },
  {
   "cell_type": "markdown",
   "metadata": {},
   "source": [
    "# Test: Beam under uniform tension\n",
    "(See 'Elasticity' by Sadd, example 8.1)\n",
    "Let us use an Airy stress function for a long rectangular beam under uniform tension T at each end (y = +/-L). Using a stress function of the form:\n",
    "$$\\phi = Ay^2$$\n",
    "\n",
    "gives the stress field:\n",
    "$$\\sigma_x = 2A$$\n",
    "$$\\sigma_y = \\tau_{xy} = 0$$\n",
    "\n",
    "This implies that $A = T/2$, or \n",
    "$$\\sigma_x = T$$\n",
    "\n",
    "Using stress-strain relationships gives:\n",
    "$$\\varepsilon_x = \\frac{T}{E}$$\n",
    "$$\\varepsilon_y = -\\nu\\frac{T}{E}$$\n",
    "\n",
    "Integrating gives \n",
    "$$u = \\frac{T}{E}x+f(y)$$\n",
    "$$v = -\\nu\\frac{T}{E}y+g(x)$$\n",
    "\n",
    "Using $2\\varepsilon_{xy} = 0$ implies $f'(y)+g'(x) = 0$, or\n",
    "$$f(y) = -\\omega_o y+u_o$$\n",
    "$$g(x) = \\omega_o x+v_o$$\n",
    "\n",
    "Where we can set the rigid body motions/rotation $\\omega_o = u_o = v_o = 0$ with appropriate boundary conditions. \n",
    "\n",
    "To set this problem up in Fenics, body forces are zero and we only have boundary conditions to enforce:"
   ]
  },
  {
   "cell_type": "code",
   "execution_count": 1,
   "metadata": {},
   "outputs": [
    {
     "name": "stdout",
     "output_type": "stream",
     "text": [
      "Calling FFC just-in-time (JIT) compiler, this may take some time.\n"
     ]
    },
    {
     "name": "stderr",
     "output_type": "stream",
     "text": [
      "/home/xoab/anaconda2/lib/python2.7/site-packages/ffc/uflacs/analysis/dependencies.py:63: FutureWarning: Using a non-tuple sequence for multidimensional indexing is deprecated; use `arr[tuple(seq)]` instead of `arr[seq]`. In the future this will be interpreted as an array index, `arr[np.array(seq)]`, which will result either in an error or a different result.\n",
      "  active[targets] = 1\n"
     ]
    },
    {
     "name": "stdout",
     "output_type": "stream",
     "text": [
      "('Difference between formulations = ', 0.0)\n"
     ]
    },
    {
     "name": "stderr",
     "output_type": "stream",
     "text": [
      "--- Instant: compiling ---\n"
     ]
    },
    {
     "name": "stdout",
     "output_type": "stream",
     "text": [
      "Calling FFC just-in-time (JIT) compiler, this may take some time.\n",
      "Calling FFC just-in-time (JIT) compiler, this may take some time.\n",
      "Calling FFC just-in-time (JIT) compiler, this may take some time.\n",
      "('Error_L2 = ', 2.3226292206683437)\n",
      "('Error_max = ', 0.8823442706046168)\n"
     ]
    },
    {
     "data": {
      "image/png": "[encoded data removed]",
      "text/plain": [
       "<Figure size 432x288 with 1 Axes>"
      ]
     },
     "metadata": {
      "needs_background": "light"
     },
     "output_type": "display_data"
    },
    {
     "data": {
      "image/png": "[encoded data removed]",
      "text/plain": [
       "<Figure size 432x288 with 1 Axes>"
      ]
     },
     "metadata": {
      "needs_background": "light"
     },
     "output_type": "display_data"
    },
    {
     "data": {
      "image/png": "[encoded data removed]",
      "text/plain": [
       "<Figure size 432x288 with 1 Axes>"
      ]
     },
     "metadata": {
      "needs_background": "light"
     },
     "output_type": "display_data"
    }
   ],
   "source": [
    "## Plane Strain\n",
    "\n",
    "%matplotlib inline\n",
    "from fenics import *\n",
    "import numpy as np\n",
    "import matplotlib.pyplot as plt\n",
    "import os\n",
    "import le\n",
    "\n",
    "# Create mesh and define function spaces\n",
    "nx, ny = 200, 20\n",
    "mesh = RectangleMesh(Point(-10, -2), Point(10, 2), nx, ny)\n",
    "V = VectorFunctionSpace(mesh, 'P', 1)\n",
    "W = FunctionSpace(mesh, 'P',1) # Scalar function space \n",
    "\n",
    "# Variables\n",
    "mu, lam = 1.0, .001\n",
    "nu = lam/(2*(lam+mu))\n",
    "EE = lam*(1+nu)*(1-2*nu)/nu\n",
    "\n",
    "# Define boundary condition\n",
    "tol = 1e-14\n",
    "def boundary_x(x, on_boundary): return abs(x[0]) < tol \n",
    "bcx = DirichletBC(V.sub(0), Constant(0.0), boundary_x)\n",
    "def boundary_y(x, on_boundary): return abs(x[1]) < tol \n",
    "bcy = DirichletBC(V.sub(1), Constant(0.0), boundary_y)\n",
    "bcs = [bcx,bcy]\n",
    "\n",
    "T = Expression((('.1','0'),('0','0')),degree=1)\n",
    "n = FacetNormal(mesh)\n",
    "zero = project(Constant(0.),W)\n",
    "\n",
    "# Solution\n",
    "u = le.varprob(V, W, T, n, bcs, zero, mu, lam, Constant(0.))\n",
    "vm = le.vm(u,mu,lam,W)\n",
    "\n",
    "# Compare with alternative formulation\n",
    "u1 = le.varprob1(V, W, T, n, bcs, zero, mu, lam, Constant(0.))\n",
    "compare_u = np.max(np.abs(u.compute_vertex_values(mesh) - u1.compute_vertex_values(mesh)))\n",
    "print('Difference between formulations = ', compare_u)\n",
    "\n",
    "# Plot solution\n",
    "plt.figure()\n",
    "plot(u, title='Displacement', mode='displacement')\n",
    "\n",
    "# Plot stress\n",
    "sx = le.sigma(u, mu, lam)[0,0]\n",
    "sx = project(sx, W)\n",
    "plt.figure()\n",
    "plot(sx, title='$\\sigma_x$')\n",
    "\n",
    "sy = le.sigma(u, mu, lam)[1,1]\n",
    "sy = project(sy, W)\n",
    "plt.figure()\n",
    "plot(sy, title='$\\sigma_y$')\n",
    "\n",
    "# Compare to correct values\n",
    "u_true = Expression(('.01*x[0]/EE','-nu*.01*x[1]/EE'),degree=2,EE=EE,nu=nu)\n",
    "u_true = interpolate(u_true,V)\n",
    "values_u_true = u_true.compute_vertex_values(mesh)\n",
    "values_u = u.compute_vertex_values(mesh)\n",
    "error_max = np.max(np.abs((values_u_true-values_u)/(np.abs(values_u)+.01)))\n",
    "print('Error_L2 = ',errornorm(u_true,u,'L2'))\n",
    "print('Error_max = ',error_max)\n",
    "\n",
    "# Save solution to file in xdmf format\n",
    "os.system('rm ./output/elasticity/*')\n",
    "u.rename(\"linear_disp\",\"\")\n",
    "ufile = XDMFFile('output/elasticity/linear_u.xdmf')\n",
    "sfile = XDMFFile('output/elasticity/linear_s.xdmf')\n",
    "ufile.write(u,0)\n",
    "sfile.write(sx,0)\n",
    "sfile.write(sy,0)\n",
    "del ufile\n",
    "del sfile"
   ]
  },
  {
   "cell_type": "markdown",
   "metadata": {},
   "source": [
    "<h2>Hyperelasticity equation and problem definition</h2>\n",
    "<p>By definition, boundary value problems for hyperelastic media can be expressed as minimisation problems, and the minimization approach is adopted in this example. For a domain $\\Omega \\subset \\mathbb{R}^{d}$, where $d$ denotes the spatial dimension, the task is to find the displacement field $u: \\Omega \\rightarrow \\mathbb{R}^{d}$ that minimises the total potential energy $\\Pi$:</p>\n",
    "\n",
    "$$\\min_{u \\in V} \\Pi,$$\n",
    "<p>where $V$ is a suitable function space that satisfies boundary conditions on $u$.  The total potential energy is given by</p>\n",
    "\n",
    "$$\\Pi = \\int_{\\Omega} \\psi(u) \\, {\\rm d} x - \\int_{\\Omega} B \\cdot u \\, {\\rm d} x - \\int_{\\partial\\Omega} T \\cdot u \\, {\\rm d} s,$$\n",
    "<p>where $\\psi$ is the elastic stored energy density, $B$ is a\n",
    "body force (per unit reference volume) and $T$ is a traction force\n",
    "(per unit reference area).</p>\n",
    "\n",
    "<p>At minimum points of $\\Pi$, the directional derivative of $\\Pi$ with respect to change in $u$</p>\n",
    "$$L(u; v) = D_{v} \\Pi = \\left. \\frac{d \\Pi(u + \\epsilon v)}{d\\epsilon} \\right|_{\\epsilon = 0}$$\n",
    "<p>is equal to zero for all $v \\in V$:</p>\n",
    "\n",
    "$$L(u; v) = 0 \\quad \\forall \\ v \\in V.$$\n",
    "<p>To minimise the potential energy, a solution to the variational equation above is sought. Depending on the potential energy $\\psi$, $L(u; v)$ can be nonlinear in $u$. In such a case, the Jacobian of $L$ is required in order to solve this\n",
    "problem using Newton's method. The Jacobian of $L$ is defined as</p>\n",
    "\n",
    "$$a(u; du, v) = D_{du} L = \\left. \\frac{d L(u + \\epsilon du; v)}{d\\epsilon} \\right|_{\\epsilon = 0} .$$\n",
    "\n",
    "<h3>Elastic stored energy density</h3>\n",
    "<p>To define the elastic stored energy density, consider the deformation gradient $F$</p>\n",
    "\n",
    "$$F = I + \\nabla u,$$\n",
    "<p>the right Cauchy-Green tensor $C$</p>\n",
    "\n",
    "$$C = F^{T} F,$$\n",
    "<p>and the scalars  $J$ and $I_{c}$</p>\n",
    "\n",
    "$$\\begin{split}J     &= \\det(F), \\\\\n",
    "I_{c} &= {\\rm trace}(C).\\end{split}$$\n",
    "<p>This demo considers a common neo-Hookean stored energy model of the form</p>\n",
    "\n",
    "$$\\psi =  \\frac{\\mu}{2} (I_{c} - 3) - \\mu \\ln(J) + \\frac{\\lambda}{2}\\ln(J)^{2},$$\n",
    "<p>where $\\mu$ and $\\lambda$ are the Lame parameters. These can be expressed in terms of the more common Young's modulus $E$\n",
    "and Poisson ratio $\\nu$ by:</p>\n",
    "\n",
    "$$\\lambda = \\frac{E \\nu}{(1 + \\nu)(1 - 2\\nu)}, \\quad  \\quad \\mu     =  \\frac{E}{2(1 + \\nu)} .$$\n"
   ]
  },
  {
   "cell_type": "markdown",
   "metadata": {},
   "source": [
    "# Test: Beam under uniform tension"
   ]
  },
  {
   "cell_type": "code",
   "execution_count": 1,
   "metadata": {
    "scrolled": false
   },
   "outputs": [
    {
     "name": "stderr",
     "output_type": "stream",
     "text": [
      "--- Instant: compiling ---\n"
     ]
    },
    {
     "name": "stdout",
     "output_type": "stream",
     "text": [
      "Calling FFC just-in-time (JIT) compiler, this may take some time.\n"
     ]
    },
    {
     "name": "stderr",
     "output_type": "stream",
     "text": [
      "/home/xoab/anaconda2/lib/python2.7/site-packages/ffc/uflacs/analysis/dependencies.py:63: FutureWarning: Using a non-tuple sequence for multidimensional indexing is deprecated; use `arr[tuple(seq)]` instead of `arr[seq]`. In the future this will be interpreted as an array index, `arr[np.array(seq)]`, which will result either in an error or a different result.\n",
      "  active[targets] = 1\n"
     ]
    },
    {
     "name": "stdout",
     "output_type": "stream",
     "text": [
      "Calling FFC just-in-time (JIT) compiler, this may take some time.\n",
      "Calling FFC just-in-time (JIT) compiler, this may take some time.\n",
      "Calling FFC just-in-time (JIT) compiler, this may take some time.\n"
     ]
    },
    {
     "data": {
      "text/plain": [
       "<matplotlib.collections.PolyCollection at 0x7f067d2f5b90>"
      ]
     },
     "execution_count": 1,
     "metadata": {},
     "output_type": "execute_result"
    },
    {
     "data": {
      "image/png": "[encoded data removed]",
      "text/plain": [
       "<Figure size 432x288 with 1 Axes>"
      ]
     },
     "metadata": {
      "needs_background": "light"
     },
     "output_type": "display_data"
    }
   ],
   "source": [
    "%matplotlib inline\n",
    "from fenics import *\n",
    "import matplotlib.pyplot as plt\n",
    "import numpy as np\n",
    "import os \n",
    "\n",
    "# Optimization options for the form compiler\n",
    "parameters[\"form_compiler\"][\"cpp_optimize\"] = True\n",
    "ffc_options = {\"optimize\": True}\n",
    "\n",
    "# Create mesh and define function space\n",
    "nx, ny = 200, 20\n",
    "mesh = RectangleMesh(Point(-10, -2), Point(10, 2), nx, ny)\n",
    "V = VectorFunctionSpace(mesh, \"Lagrange\", 1)\n",
    "\n",
    "# Mark boundary subdomians\n",
    "tol = 1e-14\n",
    "def boundary_x(x, on_boundary): return abs(x[0]) < tol \n",
    "bcx = DirichletBC(V.sub(0), Constant(0.0), boundary_x)\n",
    "def boundary_y(x, on_boundary): return abs(x[1]) < tol \n",
    "bcy = DirichletBC(V.sub(1), Constant(0.0), boundary_y)\n",
    "bcs = [bcx,bcy]\n",
    "\n",
    "# Define functions\n",
    "du = TrialFunction(V)            # Incremental displacement\n",
    "v  = TestFunction(V)             # Test function\n",
    "u  = Function(V)                 # Displacement from previous iteration\n",
    "B  = Constant((0.0, 0.0))  # Body force per unit volume\n",
    "T = Expression((('.1','0'),('0','0')),degree=1)\n",
    "n = FacetNormal(mesh)\n",
    "\n",
    "# Kinematics\n",
    "I = Identity(2)             # Identity tensor\n",
    "F = I + grad(u)             # Deformation gradient\n",
    "C = F.T*F                   # Right Cauchy-Green tensor\n",
    "\n",
    "# Invariants of deformation tensors\n",
    "Ic = tr(C)\n",
    "J  = det(F)\n",
    "\n",
    "# Elasticity parameters\n",
    "G, lam = 1.0, .001\n",
    "nu = lam/(2*(lam+G))\n",
    "E = lam*(1+nu)*(1-2*nu)/nu\n",
    "\n",
    "# Stored strain energy density (compressible neo-Hookean model)\n",
    "psi = (G/2)*(Ic - 2) - G*ln(J) + (lam/2)*(ln(J))**2\n",
    "\n",
    "# Total potential energy\n",
    "Pi = psi*dx - dot(B, u)*dx - dot(T*n, u)*ds\n",
    "\n",
    "# Compute first variation of Pi (directional derivative about u in the direction of v)\n",
    "F = derivative(Pi, u, v)\n",
    "\n",
    "# Compute Jacobian of F\n",
    "J = derivative(F, u, du)\n",
    "\n",
    "# Solve variational problem    \n",
    "solve(F == 0, u, bcs, J=J, form_compiler_parameters=ffc_options)\n",
    "\n",
    "# Save solution in VTK format\n",
    "os.system('rm ./output/hyper/*')\n",
    "u.rename(\"hyper_disp\",\"\")\n",
    "ufile = XDMFFile('./output/hyper/hyper_u.xdmf')\n",
    "ufile.write(u,0)\n",
    "del ufile\n",
    "\n",
    "# Plot and hold solution\n",
    "plt.figure()\n",
    "plot(u, title='Displacement', mode='displacement')"
   ]
  },
  {
   "cell_type": "markdown",
   "metadata": {},
   "source": [
    "# Test: Hyper vs. Linear Elasticity (displacement plot)"
   ]
  },
  {
   "cell_type": "code",
   "execution_count": 26,
   "metadata": {},
   "outputs": [
    {
     "data": {
      "text/plain": [
       "<matplotlib.legend.Legend at 0x7fbba500dcc0>"
      ]
     },
     "execution_count": 26,
     "metadata": {},
     "output_type": "execute_result"
    },
    {
     "data": {
      "image/png": "[encoded data removed]",
      "text/plain": [
       "<Figure size 432x288 with 1 Axes>"
      ]
     },
     "metadata": {
      "needs_background": "light"
     },
     "output_type": "display_data"
    }
   ],
   "source": [
    "max_disp = []\n",
    "for i in range(0,10000,100):\n",
    "    # Traction\n",
    "    T = Expression((('t','0'),('0','0')),degree=2,t=i/10000.0)\n",
    "    \n",
    "    # Total potential energy\n",
    "    Pi = psi*dx - dot(B, u)*dx - dot(T*n, u)*ds\n",
    "\n",
    "    # Compute first variation of Pi (directional derivative about u in the direction of v)\n",
    "    F = derivative(Pi, u, v)\n",
    "\n",
    "    # Compute Jacobian of F\n",
    "    J = derivative(F, u, du)\n",
    "    \n",
    "    solve(F == 0, u, bcs, J=J, form_compiler_parameters=ffc_options)\n",
    "    max_disp.append(np.max(u.compute_vertex_values()))\n",
    "    \n",
    "# Plot and hold solution\n",
    "plt.figure()\n",
    "plt.plot(max_disp,[x / 10000.0 for x in range(0, 10000, 100)])\n",
    "plt.plot([0,T.t*10/E],[0,T.t])\n",
    "plt.xlabel('Max Displacement (at ends of beam)')\n",
    "plt.ylabel('Stress at ends')\n",
    "plt.legend(['Linear','Hyperlinear'])"
   ]
  },
  {
   "cell_type": "markdown",
   "metadata": {},
   "source": [
    "# Test: alternate hyperelastic formulation (from Danial)"
   ]
  },
  {
   "cell_type": "code",
   "execution_count": 5,
   "metadata": {},
   "outputs": [
    {
     "name": "stdout",
     "output_type": "stream",
     "text": [
      "Calling FFC just-in-time (JIT) compiler, this may take some time.\n",
      "Calling FFC just-in-time (JIT) compiler, this may take some time.\n"
     ]
    },
    {
     "data": {
      "text/plain": [
       "<matplotlib.collections.PolyCollection at 0x7f067b856cd0>"
      ]
     },
     "execution_count": 5,
     "metadata": {},
     "output_type": "execute_result"
    },
    {
     "data": {
      "image/png": "[encoded data removed]",
      "text/plain": [
       "<Figure size 432x288 with 1 Axes>"
      ]
     },
     "metadata": {
      "needs_background": "light"
     },
     "output_type": "display_data"
    }
   ],
   "source": [
    "%matplotlib inline\n",
    "from dolfin import *\n",
    "import matplotlib.pyplot as plt\n",
    "import numpy as np\n",
    "import os \n",
    "\n",
    "# Optimization options for the form compiler\n",
    "parameters[\"form_compiler\"][\"cpp_optimize\"] = True\n",
    "ffc_options = {\"optimize\": True}\n",
    "\n",
    "# Create mesh and define function space\n",
    "nx, ny = 200, 20\n",
    "mesh = RectangleMesh(Point(-10, -2), Point(10, 2), nx, ny)\n",
    "V = VectorFunctionSpace(mesh, \"Lagrange\", 1)\n",
    "\n",
    "# Mark boundary subdomians\n",
    "tol = 1e-10\n",
    "def boundary_x(x, on_boundary): return abs(x[0]) < tol \n",
    "bcx = DirichletBC(V.sub(0), Constant(0.0), boundary_x)\n",
    "def boundary_y(x, on_boundary): return abs(x[1]) < tol \n",
    "bcy = DirichletBC(V.sub(1), Constant(0.0), boundary_y)\n",
    "bcs = [bcx,bcy]\n",
    "\n",
    "def E(u):\n",
    "    return 0.5*(nabla_grad(u) + nabla_grad(u).T)\n",
    "\n",
    "# Define functions\n",
    "v  = TestFunction(V)             # Test function\n",
    "u  = Function(V)                 # Displacement from previous iteration\n",
    "T = Expression((('.01','0'),('0','0')),degree=1)\n",
    "n = FacetNormal(mesh)\n",
    "\n",
    "# Elasticity parameters\n",
    "mu, lmbda = 1.0, .001\n",
    "nu = lmbda/(2*(lmbda+mu))\n",
    "\n",
    "# Kinematics\n",
    "I = Identity(2)      # Identity tensor\n",
    "F = I + grad(u)      # Deformation gradient\n",
    "B = F*F.T         # Left Cauchy-Green deformation tensor  \n",
    "C = F.T*F\n",
    "\n",
    "# Invariant of deformation tensors\n",
    "J  = det(F)\n",
    "I1 = tr(C)\n",
    "\n",
    "# Stored strain energy density (compressible neo-Hookean model)\n",
    "# sigma = lmbda*(J-1)*I + mu*(B-1./2*I1*I)/(J**(5./3)) # sigma(u)\n",
    "sigma = (mu/(J**(5./3))*(B-1./2*tr(B)*I)+lmbda*(J-1)*I) # sigma_form(u,phi)\n",
    "\n",
    "# Total potential energy\n",
    "F_HE = inner(sigma, E(v))*dx-dot(T*n,v)*ds \n",
    "\n",
    "# Solve variational problem    \n",
    "solve(F_HE == 0, u, bcs, form_compiler_parameters=ffc_options)\n",
    "\n",
    "# Plot and hold solution\n",
    "plt.figure()\n",
    "plot(u, title='Displacement', mode='displacement')"
   ]
  },
  {
   "cell_type": "markdown",
   "metadata": {},
   "source": [
    "\n",
    "## Appendix: Dolfin demo from https://fenics.readthedocs.io/projects/dolfin/en/2017.2.0/demos/hyperelasticity/python/demo_hyperelasticity.py.html"
   ]
  }
 ],
 "metadata": {
  "kernelspec": {
   "display_name": "Python 2",
   "language": "python",
   "name": "python2"
  },
  "language_info": {
   "codemirror_mode": {
    "name": "ipython",
    "version": 2
   },
   "file_extension": ".py",
   "mimetype": "text/x-python",
   "name": "python",
   "nbconvert_exporter": "python",
   "pygments_lexer": "ipython2",
   "version": "2.7.15"
  }
 },
 "nbformat": 4,
 "nbformat_minor": 1
}
